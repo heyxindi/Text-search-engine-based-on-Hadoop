{
 "cells": [
  {
   "cell_type": "code",
   "execution_count": 1,
   "metadata": {},
   "outputs": [],
   "source": [
    "import re\n",
    "import os\n",
    "import time"
   ]
  },
  {
   "cell_type": "code",
   "execution_count": null,
   "metadata": {},
   "outputs": [],
   "source": [
    "def find_words():\n",
    "    word_set = set()\n",
    "    start = time.time()\n",
    "    for filename in os.listdir(\"../Desktop/dataset\"):\n",
    "        with open(\"../Desktop/dataset/\"+filename,'r',errors = 'ignore' ) as f:\n",
    "            article = f.read()\n",
    "            pattern = r'[a-zA-Z]+'\n",
    "            #use regular expression to choose (only) the letters\n",
    "            word_set = word_set.union(set(re.findall(pattern,article)))\n",
    "            #combing the ones with same keys\n",
    "    end = time.time()\n",
    "    print(\"Find_words needs\",end-start)\n",
    "    #print the total time of find_words\n",
    "    #end - start represents the total time\n",
    "    return word_set"
   ]
  },
  {
   "cell_type": "code",
   "execution_count": null,
   "metadata": {},
   "outputs": [],
   "source": [
    "def find_books(): \n",
    "    start = time.time()\n",
    "    index={}\n",
    "    for filename in os.listdir(\"../Desktop/dataset\"):\n",
    "    #os.listdir() method is used to return a list of the names of files or folders that the specifics folder contains\n",
    "        book =set()\n",
    "        with open(\"../Desktop/dataset/\"+filename,'r',errors = 'ignore' ) as f:\n",
    "            file = os.path.basename(f.name)\n",
    "            article = f.read()\n",
    "            pattern = r'[a-zA-Z]+'\n",
    "            #use regular expression to choose (only) the letters\n",
    "            book = book.union(re.findall(pattern,article))\n",
    "            index[file]=book\n",
    "    end = time.time()\n",
    "    print(\"Find_books needs\",end-start)\n",
    "    #print the total time of find_books\n",
    "    #end - start represents the total time\n",
    "    return index"
   ]
  },
  {
   "cell_type": "code",
   "execution_count": null,
   "metadata": {},
   "outputs": [],
   "source": [
    "def find_all(words,books):\n",
    "    start = time.time()\n",
    "    result = {}\n",
    "    for word in words:\n",
    "        result[word] = []\n",
    "        #create a list for every different word\n",
    "        for book in books:\n",
    "            if word in books[book]:\n",
    "                result[word].append(book)\n",
    "                #for every book, if the word exist in this book, append the book to [word]\n",
    "    end = time.time()\n",
    "    print(\"Find_all needs\",end-start)\n",
    "    #print the total time of find_all\n",
    "    #end - start represents the total time\n",
    "    return result"
   ]
  },
  {
   "cell_type": "code",
   "execution_count": null,
   "metadata": {},
   "outputs": [],
   "source": [
    "start = time.time()\n",
    "word_list = find_words()\n",
    "file_list = find_books()\n",
    "final_index = find_all(word_list,file_list)#get all word with file\n",
    "\n",
    "desktop_path = \"../Desktop/dataset/\" \n",
    "index_name = 'index_python'\n",
    "\n",
    "address = desktop_path + index_name + '.txt'#the location of the output\n",
    "file = open(address, 'w',#write the file to the address\n",
    "            encoding='utf-8')#set the encoding format\n",
    "\n",
    "for v in final_index.items():\n",
    "    file.write(str(v))\n",
    "    file.write('\\n')\n",
    "file.close()\n",
    "end = time.time()\n",
    "print(\"Whole process needs\",end-start)"
   ]
  }
 ],
 "metadata": {
  "kernelspec": {
   "display_name": "Python 3",
   "language": "python",
   "name": "python3"
  },
  "language_info": {
   "codemirror_mode": {
    "name": "ipython",
    "version": 3
   },
   "file_extension": ".py",
   "mimetype": "text/x-python",
   "name": "python",
   "nbconvert_exporter": "python",
   "pygments_lexer": "ipython3",
   "version": "3.7.2"
  }
 },
 "nbformat": 4,
 "nbformat_minor": 2
}
