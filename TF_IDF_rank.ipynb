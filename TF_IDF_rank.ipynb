{
 "cells": [
  {
   "cell_type": "code",
   "execution_count": 108,
   "metadata": {},
   "outputs": [],
   "source": [
    "import re\n",
    "import os\n",
    "import pandas as pd\n",
    "#import time"
   ]
  },
  {
   "cell_type": "code",
   "execution_count": 168,
   "metadata": {},
   "outputs": [
    {
     "data": {
      "text/plain": [
       "0\n",
       "a                  enwiki-11 \n",
       "able               enwiki-11 \n",
       "about              enwiki-11 \n",
       "above              enwiki-11 \n",
       "accident           enwiki-11 \n",
       "achieve            enwiki-11 \n",
       "achieved           enwiki-11 \n",
       "act                enwiki-11 \n",
       "activities         enwiki-11 \n",
       "actually           enwiki-11 \n",
       "addition           enwiki-11 \n",
       "additional         enwiki-11 \n",
       "additive           enwiki-11 \n",
       "advantageare       enwiki-11 \n",
       "advantages         enwiki-11 \n",
       "affairs            enwiki-11 \n",
       "affect             enwiki-11 \n",
       "again              enwiki-11 \n",
       "akin               enwiki-11 \n",
       "all                enwiki-11 \n",
       "allquot            enwiki-11 \n",
       "also               enwiki-11 \n",
       "although           enwiki-11 \n",
       "always             enwiki-11 \n",
       "among              enwiki-11 \n",
       "an                 enwiki-11 \n",
       "analysis           enwiki-11 \n",
       "and                enwiki-11 \n",
       "anne               enwiki-11 \n",
       "another            enwiki-11 \n",
       "                      ...    \n",
       "calculations       enwiki-11 \n",
       "can                enwiki-11 \n",
       "canada             enwiki-11 \n",
       "capacities         enwiki-11 \n",
       "cartesian          enwiki-11 \n",
       "case               enwiki-11 \n",
       "causal             enwiki-11 \n",
       "centerpiece        enwiki-11 \n",
       "certain            enwiki-11 \n",
       "certainly          enwiki-11 \n",
       "characteristics    enwiki-11 \n",
       "ching              enwiki-11 \n",
       "circuit            enwiki-11 \n",
       "claim              enwiki-11 \n",
       "clustering         enwiki-11 \n",
       "collection         enwiki-11 \n",
       "combinations       enwiki-11 \n",
       "combinatorial      enwiki-11 \n",
       "combine            enwiki-11 \n",
       "compelling         enwiki-11 \n",
       "complex            enwiki-11 \n",
       "components         enwiki-11 \n",
       "composite          enwiki-11 \n",
       "composition        enwiki-11 \n",
       "compressed         enwiki-11 \n",
       "computation        enwiki-11 \n",
       "concealing         enwiki-11 \n",
       "connected          enwiki-11 \n",
       "connection         enwiki-11 \n",
       "connections        enwiki-11 \n",
       "Name: 1, Length: 100, dtype: object"
      ]
     },
     "execution_count": 168,
     "metadata": {},
     "output_type": "execute_result"
    }
   ],
   "source": [
    "file=open(\"result.txt\",\"r\")\n",
    "file=file.readlines()\n",
    "file=pd.DataFrame(file)\n",
    "\n",
    "file[0],file['idf']=file[0].str.split(\"\\t\",1).str\n",
    "file=file.sort_values(by='idf',ascending=False)\n",
    "file=pd.DataFrame(file[0])\n",
    "\n",
    "file[0],file['1']=file[0].str.split(\":\",1).str\n",
    "file['1'] = file['1'].apply(lambda x: x+' ')\n",
    "file1=file.groupby(file[0])['1'].sum()\n",
    "file1.head(100)"
   ]
  },
  {
   "cell_type": "code",
   "execution_count": 159,
   "metadata": {},
   "outputs": [],
   "source": [
    "# file = open(\"../Workshop/result.txt\")\n",
    "\n",
    "# n = 1\n",
    "\n",
    "# while n<737:\n",
    "#     line = file.readline()\n",
    "#     combine, TF_IDF = line.split(\"\t\")\n",
    "#     word, document = combine.split(\":\")\n",
    "#     #print(TF_IDF)\n",
    "#     data1=pd.DataFrame(columns=['word'])\n",
    "#     data2=pd.DataFrame(columns=['document'])\n",
    "#     data3=pd.DataFrame(columns=['TF_IDF'])\n",
    "#     #print(word)\n",
    "#     n = n+1\n",
    "#     data1.append([word])\n",
    "#     data2.append([document])\n",
    "#     data3.append([TF_IDF])\n",
    "#     #new=pd.DataFrame([[word,document,TF_IDF]],columns=['word','document','TF_IDF'])\n",
    "#     #data=data.append(new)\n",
    "    \n",
    "# print(data1)"
   ]
  },
  {
   "cell_type": "code",
   "execution_count": 160,
   "metadata": {
    "scrolled": true
   },
   "outputs": [
    {
     "data": {
      "text/html": [
       "<div>\n",
       "<style scoped>\n",
       "    .dataframe tbody tr th:only-of-type {\n",
       "        vertical-align: middle;\n",
       "    }\n",
       "\n",
       "    .dataframe tbody tr th {\n",
       "        vertical-align: top;\n",
       "    }\n",
       "\n",
       "    .dataframe thead th {\n",
       "        text-align: right;\n",
       "    }\n",
       "</style>\n",
       "<table border=\"1\" class=\"dataframe\">\n",
       "  <thead>\n",
       "    <tr style=\"text-align: right;\">\n",
       "      <th></th>\n",
       "      <th>0</th>\n",
       "    </tr>\n",
       "  </thead>\n",
       "  <tbody>\n",
       "    <tr>\n",
       "      <th>0</th>\n",
       "      <td>a:enwiki-11\\t0.13670275318891992\\n</td>\n",
       "    </tr>\n",
       "    <tr>\n",
       "      <th>1</th>\n",
       "      <td>able:enwiki-11\\t0.005182316235028401\\n</td>\n",
       "    </tr>\n",
       "    <tr>\n",
       "      <th>2</th>\n",
       "      <td>about:enwiki-11\\t0.002368497410548895\\n</td>\n",
       "    </tr>\n",
       "    <tr>\n",
       "      <th>3</th>\n",
       "      <td>above:enwiki-11\\t0.004421034313582475\\n</td>\n",
       "    </tr>\n",
       "    <tr>\n",
       "      <th>4</th>\n",
       "      <td>accident:enwiki-11\\t0.004175956256235298\\n</td>\n",
       "    </tr>\n",
       "  </tbody>\n",
       "</table>\n",
       "</div>"
      ],
      "text/plain": [
       "                                            0\n",
       "0          a:enwiki-11\\t0.13670275318891992\\n\n",
       "1      able:enwiki-11\\t0.005182316235028401\\n\n",
       "2     about:enwiki-11\\t0.002368497410548895\\n\n",
       "3     above:enwiki-11\\t0.004421034313582475\\n\n",
       "4  accident:enwiki-11\\t0.004175956256235298\\n"
      ]
     },
     "execution_count": 160,
     "metadata": {},
     "output_type": "execute_result"
    }
   ],
   "source": [
    "file=open(\"result.txt\",\"r\")\n",
    "file=file.readlines()\n",
    "file=pd.DataFrame(file)\n",
    "file.head(5)"
   ]
  },
  {
   "cell_type": "code",
   "execution_count": 161,
   "metadata": {},
   "outputs": [
    {
     "data": {
      "text/html": [
       "<div>\n",
       "<style scoped>\n",
       "    .dataframe tbody tr th:only-of-type {\n",
       "        vertical-align: middle;\n",
       "    }\n",
       "\n",
       "    .dataframe tbody tr th {\n",
       "        vertical-align: top;\n",
       "    }\n",
       "\n",
       "    .dataframe thead th {\n",
       "        text-align: right;\n",
       "    }\n",
       "</style>\n",
       "<table border=\"1\" class=\"dataframe\">\n",
       "  <thead>\n",
       "    <tr style=\"text-align: right;\">\n",
       "      <th></th>\n",
       "      <th>0</th>\n",
       "    </tr>\n",
       "  </thead>\n",
       "  <tbody>\n",
       "    <tr>\n",
       "      <th>0</th>\n",
       "      <td>a:enwiki-11</td>\n",
       "    </tr>\n",
       "    <tr>\n",
       "      <th>1</th>\n",
       "      <td>able:enwiki-11</td>\n",
       "    </tr>\n",
       "    <tr>\n",
       "      <th>2</th>\n",
       "      <td>about:enwiki-11</td>\n",
       "    </tr>\n",
       "    <tr>\n",
       "      <th>3</th>\n",
       "      <td>above:enwiki-11</td>\n",
       "    </tr>\n",
       "    <tr>\n",
       "      <th>4</th>\n",
       "      <td>accident:enwiki-11</td>\n",
       "    </tr>\n",
       "  </tbody>\n",
       "</table>\n",
       "</div>"
      ],
      "text/plain": [
       "                    0\n",
       "0         a:enwiki-11\n",
       "1      able:enwiki-11\n",
       "2     about:enwiki-11\n",
       "3     above:enwiki-11\n",
       "4  accident:enwiki-11"
      ]
     },
     "execution_count": 161,
     "metadata": {},
     "output_type": "execute_result"
    }
   ],
   "source": [
    "file[0],file['TF_IDF']=file[0].str.split(\"\\t\",1).str\n",
    "#file=file.sort_values(by='TF_IDF',ascending=False)\n",
    "#order from the highest frequency to the lowest frequency\n",
    "file_1=pd.DataFrame(file[0])\n",
    "file_1.head(5)"
   ]
  },
  {
   "cell_type": "code",
   "execution_count": 162,
   "metadata": {},
   "outputs": [
    {
     "data": {
      "text/html": [
       "<div>\n",
       "<style scoped>\n",
       "    .dataframe tbody tr th:only-of-type {\n",
       "        vertical-align: middle;\n",
       "    }\n",
       "\n",
       "    .dataframe tbody tr th {\n",
       "        vertical-align: top;\n",
       "    }\n",
       "\n",
       "    .dataframe thead th {\n",
       "        text-align: right;\n",
       "    }\n",
       "</style>\n",
       "<table border=\"1\" class=\"dataframe\">\n",
       "  <thead>\n",
       "    <tr style=\"text-align: right;\">\n",
       "      <th></th>\n",
       "      <th>0</th>\n",
       "      <th>document</th>\n",
       "    </tr>\n",
       "  </thead>\n",
       "  <tbody>\n",
       "    <tr>\n",
       "      <th>0</th>\n",
       "      <td>a</td>\n",
       "      <td>enwiki-11</td>\n",
       "    </tr>\n",
       "    <tr>\n",
       "      <th>1</th>\n",
       "      <td>able</td>\n",
       "      <td>enwiki-11</td>\n",
       "    </tr>\n",
       "    <tr>\n",
       "      <th>2</th>\n",
       "      <td>about</td>\n",
       "      <td>enwiki-11</td>\n",
       "    </tr>\n",
       "    <tr>\n",
       "      <th>3</th>\n",
       "      <td>above</td>\n",
       "      <td>enwiki-11</td>\n",
       "    </tr>\n",
       "    <tr>\n",
       "      <th>4</th>\n",
       "      <td>accident</td>\n",
       "      <td>enwiki-11</td>\n",
       "    </tr>\n",
       "  </tbody>\n",
       "</table>\n",
       "</div>"
      ],
      "text/plain": [
       "          0    document\n",
       "0         a  enwiki-11 \n",
       "1      able  enwiki-11 \n",
       "2     about  enwiki-11 \n",
       "3     above  enwiki-11 \n",
       "4  accident  enwiki-11 "
      ]
     },
     "execution_count": 162,
     "metadata": {},
     "output_type": "execute_result"
    }
   ],
   "source": [
    "file_1[0],file_1['document']=file_1[0].str.split(\":\",1).str\n",
    "file_1['document'] = file_1['document'].apply(lambda x: x+' ')\n",
    "#file_2=file_1.groupby(file_1[0])['document'].sum()\n",
    "file_1.head(5)"
   ]
  },
  {
   "cell_type": "code",
   "execution_count": 163,
   "metadata": {},
   "outputs": [
    {
     "data": {
      "text/html": [
       "<div>\n",
       "<style scoped>\n",
       "    .dataframe tbody tr th:only-of-type {\n",
       "        vertical-align: middle;\n",
       "    }\n",
       "\n",
       "    .dataframe tbody tr th {\n",
       "        vertical-align: top;\n",
       "    }\n",
       "\n",
       "    .dataframe thead th {\n",
       "        text-align: right;\n",
       "    }\n",
       "</style>\n",
       "<table border=\"1\" class=\"dataframe\">\n",
       "  <thead>\n",
       "    <tr style=\"text-align: right;\">\n",
       "      <th></th>\n",
       "      <th>0</th>\n",
       "      <th>document</th>\n",
       "      <th>order</th>\n",
       "    </tr>\n",
       "  </thead>\n",
       "  <tbody>\n",
       "    <tr>\n",
       "      <th>0</th>\n",
       "      <td>a</td>\n",
       "      <td>enwiki-11</td>\n",
       "      <td>0.13670275318891992\\n</td>\n",
       "    </tr>\n",
       "    <tr>\n",
       "      <th>1</th>\n",
       "      <td>able</td>\n",
       "      <td>enwiki-11</td>\n",
       "      <td>0.005182316235028401\\n</td>\n",
       "    </tr>\n",
       "    <tr>\n",
       "      <th>2</th>\n",
       "      <td>about</td>\n",
       "      <td>enwiki-11</td>\n",
       "      <td>0.002368497410548895\\n</td>\n",
       "    </tr>\n",
       "    <tr>\n",
       "      <th>3</th>\n",
       "      <td>above</td>\n",
       "      <td>enwiki-11</td>\n",
       "      <td>0.004421034313582475\\n</td>\n",
       "    </tr>\n",
       "    <tr>\n",
       "      <th>4</th>\n",
       "      <td>accident</td>\n",
       "      <td>enwiki-11</td>\n",
       "      <td>0.004175956256235298\\n</td>\n",
       "    </tr>\n",
       "  </tbody>\n",
       "</table>\n",
       "</div>"
      ],
      "text/plain": [
       "          0    document                   order\n",
       "0         a  enwiki-11    0.13670275318891992\\n\n",
       "1      able  enwiki-11   0.005182316235028401\\n\n",
       "2     about  enwiki-11   0.002368497410548895\\n\n",
       "3     above  enwiki-11   0.004421034313582475\\n\n",
       "4  accident  enwiki-11   0.004175956256235298\\n"
      ]
     },
     "execution_count": 163,
     "metadata": {},
     "output_type": "execute_result"
    }
   ],
   "source": [
    "file_1[\"order\"] = file['TF_IDF']\n",
    "file_1.head(5)"
   ]
  },
  {
   "cell_type": "code",
   "execution_count": null,
   "metadata": {},
   "outputs": [],
   "source": [
    "file_2=file_1.groupby(file_1[0])['document'].sum()\n",
    "file_3=file_2.sort_values(by='order',ascending=False)\n",
    "file_3.head(5)"
   ]
  },
  {
   "cell_type": "code",
   "execution_count": null,
   "metadata": {},
   "outputs": [],
   "source": []
  }
 ],
 "metadata": {
  "kernelspec": {
   "display_name": "Python 3",
   "language": "python",
   "name": "python3"
  },
  "language_info": {
   "codemirror_mode": {
    "name": "ipython",
    "version": 3
   },
   "file_extension": ".py",
   "mimetype": "text/x-python",
   "name": "python",
   "nbconvert_exporter": "python",
   "pygments_lexer": "ipython3",
   "version": "3.8.5"
  },
  "toc": {
   "base_numbering": 1,
   "nav_menu": {},
   "number_sections": true,
   "sideBar": true,
   "skip_h1_title": false,
   "title_cell": "Table of Contents",
   "title_sidebar": "Contents",
   "toc_cell": false,
   "toc_position": {},
   "toc_section_display": true,
   "toc_window_display": false
  },
  "varInspector": {
   "cols": {
    "lenName": 16,
    "lenType": 16,
    "lenVar": 40
   },
   "kernels_config": {
    "python": {
     "delete_cmd_postfix": "",
     "delete_cmd_prefix": "del ",
     "library": "var_list.py",
     "varRefreshCmd": "print(var_dic_list())"
    },
    "r": {
     "delete_cmd_postfix": ") ",
     "delete_cmd_prefix": "rm(",
     "library": "var_list.r",
     "varRefreshCmd": "cat(var_dic_list()) "
    }
   },
   "types_to_exclude": [
    "module",
    "function",
    "builtin_function_or_method",
    "instance",
    "_Feature"
   ],
   "window_display": false
  }
 },
 "nbformat": 4,
 "nbformat_minor": 2
}
